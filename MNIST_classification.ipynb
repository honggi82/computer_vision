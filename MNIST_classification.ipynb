{
  "nbformat": 4,
  "nbformat_minor": 0,
  "metadata": {
    "colab": {
      "name": "MNIST classification.ipynb",
      "provenance": [],
      "include_colab_link": true
    },
    "kernelspec": {
      "name": "python3",
      "display_name": "Python 3"
    },
    "language_info": {
      "name": "python"
    }
  },
  "cells": [
    {
      "cell_type": "markdown",
      "metadata": {
        "id": "view-in-github",
        "colab_type": "text"
      },
      "source": [
        "<a href=\"https://colab.research.google.com/github/honggi82/computer_vision/blob/main/MNIST_classification.ipynb\" target=\"_parent\"><img src=\"https://colab.research.google.com/assets/colab-badge.svg\" alt=\"Open In Colab\"/></a>"
      ]
    },
    {
      "cell_type": "code",
      "metadata": {
        "id": "F39UJKMQGQJ9",
        "colab": {
          "base_uri": "https://localhost:8080/",
          "height": 1000
        },
        "outputId": "8369e774-bbf9-4e9b-fc8f-580519bb668b"
      },
      "source": [
        "import tensorflow as tf\n",
        "from keras.models import Sequential\n",
        "from keras.layers import Dense, Flatten\n",
        "from keras.optimizers import Adam\n",
        "import matplotlib.pyplot as plt\n",
        "\n",
        "# MNIST 데이터셋 불러오기\n",
        "(train_X, train_Y), (test_X, test_Y) = tf.keras.datasets.mnist.load_data()\n",
        "print(len(train_X), len(test_X))\n",
        "\n",
        "# 데이터 확인\n",
        "plt.imshow(train_X[0], cmap='gray')\n",
        "plt.colorbar()\n",
        "print(train_Y[0])\n",
        "\n",
        "# 데이터 정규화\n",
        "train_X = train_X / 255.0\n",
        "test_X = test_X / 255.0\n",
        "# MNIST 분류 모델\n",
        "model = Sequential([\n",
        "    Flatten(input_shape=(28,28)),\n",
        "    Dense(units=128, activation='relu'),\n",
        "    Dense(units=10, activation='softmax')])\n",
        "model.compile(optimizer=Adam(), \n",
        "              loss='sparse_categorical_crossentropy', \n",
        "              metrics=['accuracy'])\n",
        "\n",
        "model.summary()\n",
        "\n",
        "# MNIST 분류 모델 학습\n",
        "history = model.fit(train_X, train_Y, epochs=25)\n",
        "\n",
        "# MNIST 분류 모델 학습 결과 시각화\n",
        "plt.figure(figsize=(12, 4))\n",
        "plt.subplot(1, 2, 1)\n",
        "plt.plot(history.history['loss'], 'b-', label='loss')\n",
        "plt.xlabel('Epoch')\n",
        "plt.legend()\n",
        "\n",
        "plt.subplot(1, 2, 2)\n",
        "plt.plot(history.history['accuracy'], 'g-', label='accuracy')\n",
        "plt.xlabel('Epoch')\n",
        "plt.ylim(0.7, 1)\n",
        "plt.legend()\n",
        "\n",
        "# MNIST 분류 모델 평가\n",
        "model.evaluate(test_X, test_Y)"
      ],
      "execution_count": 2,
      "outputs": [
        {
          "output_type": "stream",
          "name": "stdout",
          "text": [
            "60000 10000\n",
            "5\n",
            "Model: \"sequential_1\"\n",
            "_________________________________________________________________\n",
            " Layer (type)                Output Shape              Param #   \n",
            "=================================================================\n",
            " flatten_1 (Flatten)         (None, 784)               0         \n",
            "                                                                 \n",
            " dense_2 (Dense)             (None, 128)               100480    \n",
            "                                                                 \n",
            " dense_3 (Dense)             (None, 10)                1290      \n",
            "                                                                 \n",
            "=================================================================\n",
            "Total params: 101,770\n",
            "Trainable params: 101,770\n",
            "Non-trainable params: 0\n",
            "_________________________________________________________________\n",
            "Epoch 1/25\n",
            "1875/1875 [==============================] - 5s 3ms/step - loss: 0.2602 - accuracy: 0.9262\n",
            "Epoch 2/25\n",
            "1875/1875 [==============================] - 5s 3ms/step - loss: 0.1147 - accuracy: 0.9660\n",
            "Epoch 3/25\n",
            "1875/1875 [==============================] - 5s 3ms/step - loss: 0.0775 - accuracy: 0.9762\n",
            "Epoch 4/25\n",
            "1875/1875 [==============================] - 5s 3ms/step - loss: 0.0584 - accuracy: 0.9819\n",
            "Epoch 5/25\n",
            "1875/1875 [==============================] - 6s 3ms/step - loss: 0.0444 - accuracy: 0.9860\n",
            "Epoch 6/25\n",
            "1875/1875 [==============================] - 5s 3ms/step - loss: 0.0354 - accuracy: 0.9894\n",
            "Epoch 7/25\n",
            "1875/1875 [==============================] - 5s 3ms/step - loss: 0.0275 - accuracy: 0.9915\n",
            "Epoch 8/25\n",
            "1875/1875 [==============================] - 5s 3ms/step - loss: 0.0225 - accuracy: 0.9930\n",
            "Epoch 9/25\n",
            "1875/1875 [==============================] - 5s 3ms/step - loss: 0.0186 - accuracy: 0.9945\n",
            "Epoch 10/25\n",
            "1875/1875 [==============================] - 5s 3ms/step - loss: 0.0149 - accuracy: 0.9956\n",
            "Epoch 11/25\n",
            "1875/1875 [==============================] - 5s 3ms/step - loss: 0.0130 - accuracy: 0.9959\n",
            "Epoch 12/25\n",
            "1875/1875 [==============================] - 5s 3ms/step - loss: 0.0119 - accuracy: 0.9963\n",
            "Epoch 13/25\n",
            "1875/1875 [==============================] - 5s 3ms/step - loss: 0.0096 - accuracy: 0.9970\n",
            "Epoch 14/25\n",
            "1875/1875 [==============================] - 5s 3ms/step - loss: 0.0076 - accuracy: 0.9978\n",
            "Epoch 15/25\n",
            "1875/1875 [==============================] - 5s 3ms/step - loss: 0.0073 - accuracy: 0.9977\n",
            "Epoch 16/25\n",
            "1875/1875 [==============================] - 5s 3ms/step - loss: 0.0078 - accuracy: 0.9974\n",
            "Epoch 17/25\n",
            "1875/1875 [==============================] - 5s 3ms/step - loss: 0.0079 - accuracy: 0.9973\n",
            "Epoch 18/25\n",
            "1875/1875 [==============================] - 5s 3ms/step - loss: 0.0048 - accuracy: 0.9984\n",
            "Epoch 19/25\n",
            "1875/1875 [==============================] - 5s 3ms/step - loss: 0.0053 - accuracy: 0.9984\n",
            "Epoch 20/25\n",
            "1875/1875 [==============================] - 5s 3ms/step - loss: 0.0058 - accuracy: 0.9981\n",
            "Epoch 21/25\n",
            "1875/1875 [==============================] - 5s 3ms/step - loss: 0.0048 - accuracy: 0.9986\n",
            "Epoch 22/25\n",
            "1875/1875 [==============================] - 5s 3ms/step - loss: 0.0050 - accuracy: 0.9984\n",
            "Epoch 23/25\n",
            "1875/1875 [==============================] - 5s 3ms/step - loss: 0.0050 - accuracy: 0.9983\n",
            "Epoch 24/25\n",
            "1875/1875 [==============================] - 5s 3ms/step - loss: 0.0034 - accuracy: 0.9988\n",
            "Epoch 25/25\n",
            "1875/1875 [==============================] - 5s 3ms/step - loss: 0.0040 - accuracy: 0.9986\n",
            "313/313 [==============================] - 1s 2ms/step - loss: 0.1167 - accuracy: 0.9783\n"
          ]
        },
        {
          "output_type": "execute_result",
          "data": {
            "text/plain": [
              "[0.11669144034385681, 0.9782999753952026]"
            ]
          },
          "metadata": {},
          "execution_count": 2
        },
        {
          "output_type": "display_data",
          "data": {
            "text/plain": [
              "<Figure size 432x288 with 2 Axes>"
            ],
            "image/png": "[encoded data removed]"
          },
          "metadata": {
            "needs_background": "light"
          }
        },
        {
          "output_type": "display_data",
          "data": {
            "text/plain": [
              "<Figure size 864x288 with 2 Axes>"
            ],
            "image/png": "[encoded data removed]"
          },
          "metadata": {
            "needs_background": "light"
          }
        }
      ]
    }
  ]
}