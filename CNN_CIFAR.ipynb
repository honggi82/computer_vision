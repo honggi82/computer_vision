{
  "nbformat": 4,
  "nbformat_minor": 0,
  "metadata": {
    "colab": {
      "name": "CNN_CIFAR.ipynb",
      "provenance": [],
      "authorship_tag": "ABX9TyPD9C2HmGXWDfahivIzuczH",
      "include_colab_link": true
    },
    "kernelspec": {
      "name": "python3",
      "display_name": "Python 3"
    }
  },
  "cells": [
    {
      "cell_type": "markdown",
      "metadata": {
        "id": "view-in-github",
        "colab_type": "text"
      },
      "source": [
        "<a href=\"https://colab.research.google.com/github/honggi82/computer_vision/blob/main/CNN_CIFAR.ipynb\" target=\"_parent\"><img src=\"https://colab.research.google.com/assets/colab-badge.svg\" alt=\"Open In Colab\"/></a>"
      ]
    },
    {
      "cell_type": "code",
      "metadata": {
        "colab": {
          "base_uri": "https://localhost:8080/"
        },
        "id": "7U5in5DMdf2E",
        "outputId": "8d50ef44-1baa-427b-9544-5918f12c86dc"
      },
      "source": [
        "from keras.utils import np_utils\n",
        "from keras.datasets import cifar10\n",
        "from keras.models import Sequential\n",
        "from keras.layers import Conv2D, pooling, Flatten, Dense\n",
        "\n",
        "# MNIST data\n",
        "(train_X, train_Y), (test_X, test_Y) = cifar10.load_data()\n",
        "print(train_X.shape, train_Y.shape, test_X.shape, test_Y.shape)\n",
        "\n",
        "train_X = train_X.reshape(train_X.shape[0], 32,32,3).astype('float32')/255.0\n",
        "test_X = test_X.reshape(test_X.shape[0], 32,32,3).astype('float32')/255.0\n",
        "\n",
        "train_Y = np_utils.to_categorical(train_Y) # One-Hot Encoding\n",
        "test_Y = np_utils.to_categorical(test_Y) # One-Hot Encoding\n",
        "\n",
        "# Model\n",
        "model = Sequential()\n",
        "model.add(Conv2D(32, (3,3), padding='same', strides=(1,1), activation='relu', input_shape=(32,32,3)))\n",
        "model.add(pooling.MaxPooling2D(pool_size=(2,2)))\n",
        "model.add(Conv2D(64, (3,3), padding='same', strides=(1,1), activation='relu'))\n",
        "model.add(pooling.MaxPooling2D(pool_size=(2,2)))\n",
        "model.add(Flatten())\n",
        "model.add(Dense(10, activation='softmax')) # units=10, activation='softmax'\n",
        "model.compile(loss='categorical_crossentropy', optimizer='sgd', metrics=['accuracy'])\n",
        "model.summary()\n",
        "\n",
        "# Training\n",
        "model.fit(train_X, train_Y, epochs=25)\n",
        "# Testing\n",
        "_, accuracy = model.evaluate(test_X, test_Y)\n",
        "print('Accuracy: ', accuracy)"
      ],
      "execution_count": null,
      "outputs": [
        {
          "output_type": "stream",
          "name": "stdout",
          "text": [
            "Downloading data from https://www.cs.toronto.edu/~kriz/cifar-10-python.tar.gz\n",
            "170500096/170498071 [==============================] - 4s 0us/step\n",
            "170508288/170498071 [==============================] - 4s 0us/step\n",
            "(50000, 32, 32, 3) (50000, 1) (10000, 32, 32, 3) (10000, 1)\n",
            "Model: \"sequential\"\n",
            "_________________________________________________________________\n",
            "Layer (type)                 Output Shape              Param #   \n",
            "=================================================================\n",
            "conv2d (Conv2D)              (None, 32, 32, 32)        896       \n",
            "_________________________________________________________________\n",
            "max_pooling2d (MaxPooling2D) (None, 16, 16, 32)        0         \n",
            "_________________________________________________________________\n",
            "conv2d_1 (Conv2D)            (None, 16, 16, 64)        18496     \n",
            "_________________________________________________________________\n",
            "max_pooling2d_1 (MaxPooling2 (None, 8, 8, 64)          0         \n",
            "_________________________________________________________________\n",
            "flatten (Flatten)            (None, 4096)              0         \n",
            "_________________________________________________________________\n",
            "dense (Dense)                (None, 10)                40970     \n",
            "=================================================================\n",
            "Total params: 60,362\n",
            "Trainable params: 60,362\n",
            "Non-trainable params: 0\n",
            "_________________________________________________________________\n",
            "Epoch 1/25\n",
            "1185/1563 [=====================>........] - ETA: 16s - loss: 2.0127 - accuracy: 0.2794"
          ]
        }
      ]
    }
  ]
}