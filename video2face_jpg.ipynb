{
  "nbformat": 4,
  "nbformat_minor": 0,
  "metadata": {
    "colab": {
      "provenance": [],
      "include_colab_link": true
    },
    "kernelspec": {
      "name": "python3",
      "display_name": "Python 3"
    },
    "language_info": {
      "name": "python"
    }
  },
  "cells": [
    {
      "cell_type": "markdown",
      "metadata": {
        "id": "view-in-github",
        "colab_type": "text"
      },
      "source": [
        "<a href=\"https://colab.research.google.com/github/honggi82/computer_vision/blob/main/video2face_jpg.ipynb\" target=\"_parent\"><img src=\"https://colab.research.google.com/assets/colab-badge.svg\" alt=\"Open In Colab\"/></a>"
      ]
    },
    {
      "cell_type": "code",
      "execution_count": 4,
      "metadata": {
        "id": "60sDWCBwFj7F",
        "outputId": "d445d572-0dbe-4f9d-afea-fefba40ed20d",
        "colab": {
          "base_uri": "https://localhost:8080/"
        }
      },
      "outputs": [
        {
          "output_type": "stream",
          "name": "stdout",
          "text": [
            "Drive already mounted at /content/gdrive; to attempt to forcibly remount, call drive.mount(\"/content/gdrive\", force_remount=True).\n"
          ]
        }
      ],
      "source": [
        "import cv2\n",
        "from google.colab.patches import cv2_imshow\n",
        "from google.colab import drive\n",
        "drive.mount('/content/gdrive')\n",
        "\n",
        "cap = cv2. VideoCapture(\"/content/gdrive/MyDrive/Computer_Vision/sample_video4.mp4\")\n",
        "i=0\n",
        "while i<200:\n",
        "    success, img = cap.read()\n",
        "    if success:\n",
        "        gray = cv2.cvtColor(img, cv2.COLOR_BGR2GRAY)\n",
        "        face_cascade = cv2.CascadeClassifier(\"/content/gdrive/MyDrive/Computer_Vision/haarcascade_frontalface_default.xml\")\n",
        "        faces = face_cascade.detectMultiScale(gray, 1.3, 5)\n",
        "        for (x,y,w,h) in faces:\n",
        "            cv2.imwrite(\"/content/gdrive/MyDrive/Computer_Vision/faces/face0_\"+str(i)+\".jpg\", img[y:y+h, x:x+w])\n",
        "            i+=1\n",
        "    else:\n",
        "        break\n",
        "\n",
        "cap.release()\n",
        "\n",
        "\n",
        "cap = cv2. VideoCapture(\"/content/gdrive/MyDrive/Computer_Vision/sample_video5.mp4\")\n",
        "i=0\n",
        "while i<200:\n",
        "    success, img = cap.read()\n",
        "    if success:\n",
        "        gray = cv2.cvtColor(img, cv2.COLOR_BGR2GRAY)\n",
        "        face_cascade = cv2.CascadeClassifier(\"/content/gdrive/MyDrive/Computer_Vision/haarcascade_frontalface_default.xml\")\n",
        "        faces = face_cascade.detectMultiScale(gray, 1.3, 5)\n",
        "        for (x,y,w,h) in faces:\n",
        "            cv2.imwrite(\"/content/gdrive/MyDrive/Computer_Vision/faces/face1_\"+str(i)+\".jpg\", img[y:y+h, x:x+w])\n",
        "            i+=1\n",
        "    else:\n",
        "        break\n",
        "\n",
        "cap.release()\n",
        "\n",
        "\n",
        "cap = cv2. VideoCapture(\"/content/gdrive/MyDrive/Computer_Vision/sample_video6.mp4\")\n",
        "i=0\n",
        "while i<200:\n",
        "    success, img = cap.read()\n",
        "    if success:\n",
        "        gray = cv2.cvtColor(img, cv2.COLOR_BGR2GRAY)\n",
        "        face_cascade = cv2.CascadeClassifier(\"/content/gdrive/MyDrive/Computer_Vision/haarcascade_frontalface_default.xml\")\n",
        "        faces = face_cascade.detectMultiScale(gray, 1.3, 5)\n",
        "        for (x,y,w,h) in faces:\n",
        "            cv2.imwrite(\"/content/gdrive/MyDrive/Computer_Vision/faces/face2_\"+str(i)+\".jpg\", img[y:y+h, x:x+w])\n",
        "            i+=1\n",
        "    else:\n",
        "        break\n",
        "\n",
        "cap.release()"
      ]
    }
  ]
}