{
  "nbformat": 4,
  "nbformat_minor": 0,
  "metadata": {
    "colab": {
      "provenance": [],
      "mount_file_id": "1NhmYpUz87uEwpZIj24uOOyW9G2oSDMc4",
      "authorship_tag": "ABX9TyPgZj/XoTrFyllSNNDedjiM",
      "include_colab_link": true
    },
    "kernelspec": {
      "name": "python3",
      "display_name": "Python 3"
    },
    "language_info": {
      "name": "python"
    }
  },
  "cells": [
    {
      "cell_type": "markdown",
      "metadata": {
        "id": "view-in-github",
        "colab_type": "text"
      },
      "source": [
        "<a href=\"https://colab.research.google.com/github/honggi82/computer_vision/blob/main/video2face_jpg.ipynb\" target=\"_parent\"><img src=\"https://colab.research.google.com/assets/colab-badge.svg\" alt=\"Open In Colab\"/></a>"
      ]
    },
    {
      "cell_type": "code",
      "execution_count": null,
      "metadata": {
        "id": "60sDWCBwFj7F"
      },
      "outputs": [],
      "source": [
        "import cv2\n",
        "from google.colab.patches import cv2_imshow\n",
        "cap = cv2. VideoCapture(\"/content/drive/MyDrive/Computer_Vision/sample_video4.mp4\")\n",
        "i=0\n",
        "while i<200:   \n",
        "    success, img = cap.read()\n",
        "    if success:\n",
        "        gray = cv2.cvtColor(img, cv2.COLOR_BGR2GRAY)\n",
        "        face_cascade = cv2.CascadeClassifier(\"/content/drive/MyDrive/Computer_Vision/haarcascade_frontalface_default.xml\")\n",
        "        faces = face_cascade.detectMultiScale(gray, 1.3, 5)\n",
        "        for (x,y,w,h) in faces:\n",
        "            img = cv2.rectangle(img, (x,y), (x+w, y+h), (255,0,0),2)\n",
        "            cv2.imwrite(\"/content/drive/MyDrive/Computer_Vision/face0_\"+str(i)+\".jpg\", img[y:y+h, x:x+w]) \n",
        "            i+=1\n",
        "    else:\n",
        "        break\n",
        "        \n",
        "cap.release()"
      ]
    }
  ]
}